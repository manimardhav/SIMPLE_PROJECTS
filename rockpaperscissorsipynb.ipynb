{
  "nbformat": 4,
  "nbformat_minor": 0,
  "metadata": {
    "colab": {
      "provenance": []
    },
    "kernelspec": {
      "name": "python3",
      "display_name": "Python 3"
    },
    "language_info": {
      "name": "python"
    }
  },
  "cells": [
    {
      "cell_type": "code",
      "execution_count": 5,
      "metadata": {
        "id": "3nt3kML1aBM1"
      },
      "outputs": [],
      "source": [
        "import random\n",
        "\n",
        "def player(prev_play, opponent_history=[]):\n",
        "    \"\"\"\n",
        "    This function plays Rock Paper Scissors against four different bots.\n",
        "\n",
        "    It uses a combination of strategies to defeat the bots. The strategies are:\n",
        "    1. Mirror the opponent's last move.\n",
        "    2. Play the move that beats the opponent's last move.\n",
        "    3. Play a random move.\n",
        "\n",
        "    The function chooses a strategy based on the opponent's history.\n",
        "    \"\"\"\n",
        "\n",
        "    # Initialize the opponent's history if it's empty\n",
        "    if not opponent_history:\n",
        "        opponent_history.append(prev_play)\n",
        "\n",
        "    # If the opponent's history is short, play a random move\n",
        "    if len(opponent_history) < 5:\n",
        "        return random.choice(['R', 'P', 'S'])\n",
        "\n",
        "    # If the opponent's history is long, analyze it to choose a strategy\n",
        "    else:\n",
        "        # Count the number of each move in the opponent's history\n",
        "        move_counts = {'R': 0, 'P': 0, 'S': 0}\n",
        "        for move in opponent_history:\n",
        "            move_counts[move] += 1\n",
        "\n",
        "        # If the opponent plays one move much more often than the others, play the move that beats it\n",
        "        if max(move_counts.values()) > len(opponent_history) / 2:\n",
        "            most_common_move = max(move_counts, key=move_counts.get)\n",
        "            if most_common_move == 'R':\n",
        "                return 'P'\n",
        "            elif most_common_move == 'P':\n",
        "                return 'S'\n",
        "            else:\n",
        "                return 'R'\n",
        "\n",
        "        # If the opponent plays two moves equally often, mirror the opponent's last move\n",
        "        elif move_counts['R'] == move_counts['P'] or move_counts['P'] == move_counts['S'] or move_counts['R'] == move_counts['S']:\n",
        "            return prev_play\n",
        "\n",
        "        # If the opponent's history is random, play a random move\n",
        "        else:\n",
        "            return random.choice(['R', 'P', 'S'])"
      ]
    },
    {
      "cell_type": "markdown",
      "source": [],
      "metadata": {
        "id": "iY8iyxKPaOkS"
      }
    },
    {
      "cell_type": "code",
      "source": [],
      "metadata": {
        "id": "k9L1KSaEaPJ5"
      },
      "execution_count": null,
      "outputs": []
    }
  ]
}